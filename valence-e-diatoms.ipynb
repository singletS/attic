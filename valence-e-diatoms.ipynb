{
 "cells": [
  {
   "cell_type": "code",
   "execution_count": 1,
   "metadata": {},
   "outputs": [
    {
     "data": {
      "application/javascript": [
       "IPython.notebook.set_autosave_interval(0)"
      ]
     },
     "metadata": {},
     "output_type": "display_data"
    },
    {
     "name": "stdout",
     "output_type": "stream",
     "text": [
      "Autosave disabled\n"
     ]
    }
   ],
   "source": [
    "%autosave 0"
   ]
  },
  {
   "cell_type": "code",
   "execution_count": 1,
   "metadata": {
    "collapsed": true
   },
   "outputs": [],
   "source": [
    "import matplotlib.pyplot as plt\n",
    "import numpy as np\n",
    "import pandas as pd\n",
    "import psi4\n",
    "%matplotlib inline\n",
    "plt.style.use('seaborn-talk')"
   ]
  },
  {
   "cell_type": "code",
   "execution_count": 3,
   "metadata": {},
   "outputs": [],
   "source": [
    "#psi4.set_output_file('valence-diatoms.dat', False)\n",
    "#psi4.set_memory('1000 MB')\n",
    "#psi4.set_num_threads(2)"
   ]
  },
  {
   "cell_type": "markdown",
   "metadata": {},
   "source": [
    "# Li$_2$ potential scan"
   ]
  },
  {
   "cell_type": "code",
   "execution_count": 3,
   "metadata": {
    "collapsed": true
   },
   "outputs": [],
   "source": [
    "Li2_geom = psi4.geometry(\"\"\"\n",
    "0 1\n",
    "Li\n",
    "Li 1 2.67328\"\"\")  # Li2 Re lit value"
   ]
  },
  {
   "cell_type": "code",
   "execution_count": 4,
   "metadata": {},
   "outputs": [
    {
     "data": {
      "text/plain": [
       "(-14.866393278421494, -14.869505411765761)"
      ]
     },
     "execution_count": 4,
     "metadata": {},
     "output_type": "execute_result"
    }
   ],
   "source": [
    "psi4.set_options({'reference':'rohf'})\n",
    "\n",
    "# single-point energies at experimental re\n",
    "eLi2_631, wfnLi2_631 = psi4.energy('scf/6-31g*', return_wfn=True)\n",
    "eLi2_cc, wfnLi2_cc = psi4.energy('scf/cc-pvdz', return_wfn=True)\n",
    "\n",
    "eLi2_631, eLi2_cc"
   ]
  },
  {
   "cell_type": "code",
   "execution_count": 6,
   "metadata": {},
   "outputs": [
    {
     "name": "stdout",
     "output_type": "stream",
     "text": [
      "\n",
      "0 1\n",
      "Li\n",
      "Li 1 2.0\n",
      "\n"
     ]
    }
   ],
   "source": [
    "r = 2.0\n",
    "Li2zmat = \"\\n0 1\\nLi\\nLi 1 %s\\n\"\n",
    "print(Li2zmat % r)"
   ]
  },
  {
   "cell_type": "code",
   "execution_count": 7,
   "metadata": {},
   "outputs": [
    {
     "data": {
      "text/plain": [
       "array([  1.2,   1.3,   1.4,   1.5,   1.6,   1.7,   1.8,   1.9,   2. ,\n",
       "         2.1,   2.2,   2.3,   2.4,   2.5,   2.6,   2.7,   2.8,   2.9,\n",
       "         3. ,   3.1,   3.2,   3.3,   3.4,   3.5,   3.6,   3.7,   3.8,\n",
       "         3.9,   4. ,   5. ,   6. ,   7. ,   8. ,   9. ,  10. ,  15. ,\n",
       "        20. ,  25. ,  30. ,  35. ,  40. ,  45. ,  50. ,  55. ,  60. ,\n",
       "        65. ,  70. ])"
      ]
     },
     "execution_count": 7,
     "metadata": {},
     "output_type": "execute_result"
    }
   ],
   "source": [
    "# rs (r values) internuclear separation\n",
    "short = np.arange(1.2, 4.1, 0.1)\n",
    "med = np.arange(5, 10, 1)\n",
    "long = np.arange(10, 71, 5)\n",
    "\n",
    "rs = np.hstack([short, med, long])\n",
    "rs"
   ]
  },
  {
   "cell_type": "code",
   "execution_count": 2,
   "metadata": {
    "collapsed": true
   },
   "outputs": [],
   "source": [
    "def coord_scan(rs, zmat, model='scf/6-31g*', wfn=True, progress=True):\n",
    "    r\"\"\"Return list of energies and optionally wavefunctions using a given model chemistry\n",
    "\n",
    "    INPUT\n",
    "    - rs: r values at which to calculate the energy; list-like\n",
    "    - zmat: zmatrix template from which psi4.geometry will be generated; string\n",
    "    - model: model chemistry with basis set; string\n",
    "    - wfn: whether the wavefunctions should be returned; boolean\n",
    "    - progress: prints each value of r so progress can be monitored; boolean\n",
    "\n",
    "    OUTPUT\n",
    "    - energies: list of energy values at each r\n",
    "    - wavefunctions: if True, list of wavefunction objects\n",
    "\n",
    "    Sample zmatrix template:\n",
    "    zmat = \"\\n 0 1\\nLi 1 %s\\n\"\n",
    "\n",
    "    will give this zmatrix to psi4.geometry:\n",
    "\n",
    "    0 1\n",
    "    Li\n",
    "    Li 1 %s\n",
    "\"\"\"\n",
    "    energies = []\n",
    "    wavefunctions = []\n",
    "\n",
    "    for r in rs:\n",
    "        if progress:\n",
    "            print('%s ' % r, end='')\n",
    "        mol = psi4.geometry(zmat % r)\n",
    "        e, wfn = psi4.energy(model, mol=mol, return_wfn=True)\n",
    "        psi4.core.clean()\n",
    "        energies.append(e)\n",
    "        wavefunctions.append(wfn)\n",
    "    if progress:\n",
    "        print(\"\\nFinished\")\n",
    "    if wfn:\n",
    "        return energies, wavefunctions\n",
    "    else:\n",
    "        return energies"
   ]
  },
  {
   "cell_type": "code",
   "execution_count": 9,
   "metadata": {},
   "outputs": [
    {
     "name": "stdout",
     "output_type": "stream",
     "text": [
      "1.2 1.3 1.4 1.5 1.6 1.7 1.8 1.9 2.0 2.1 2.2 2.3 2.4 2.5 2.6 2.7 2.8 2.9 3.0 3.1 3.2 3.3 3.4 3.5 3.6 3.7 3.8 3.9 4.0 5.0 6.0 7.0 8.0 9.0 10.0 15.0 20.0 25.0 30.0 35.0 40.0 45.0 50.0 55.0 60.0 65.0 70.0 \n",
      "Finished\n",
      "CPU times: user 15.8 s, sys: 552 ms, total: 16.3 s\n",
      "Wall time: 16.9 s\n"
     ]
    }
   ],
   "source": [
    "%%time\n",
    "es, wfns = coord_scan(rs, Li2zmat)"
   ]
  },
  {
   "cell_type": "code",
   "execution_count": 11,
   "metadata": {
    "scrolled": false
   },
   "outputs": [
    {
     "data": {
      "text/plain": [
       "(1, 10)"
      ]
     },
     "execution_count": 11,
     "metadata": {},
     "output_type": "execute_result"
    },
    {
     "data": {
      "image/png": "[encoded data removed]",
      "text/plain": [
       "<matplotlib.figure.Figure at 0x7fc9dac3db00>"
      ]
     },
     "metadata": {},
     "output_type": "display_data"
    }
   ],
   "source": [
    "plt.plot(rs, es, 'o')\n",
    "plt.axhline(es[-1], color='k', lw=1)\n",
    "plt.ylabel(\"V(r) / H\")\n",
    "plt.xlabel(\"r / Bohr\")\n",
    "plt.xlim(1,10)"
   ]
  },
  {
   "cell_type": "code",
   "execution_count": 12,
   "metadata": {},
   "outputs": [
    {
     "name": "stdout",
     "output_type": "stream",
     "text": [
      "1.2 1.3 1.4 1.5 1.6 1.7 1.8 1.9 2.0 2.1 2.2 2.3 2.4 2.5 2.6 2.7 2.8 2.9 3.0 3.1 3.2 3.3 3.4 3.5 3.6 3.7 3.8 3.9 4.0 5.0 6.0 7.0 8.0 9.0 10.0 15.0 20.0 25.0 30.0 35.0 40.0 45.0 50.0 55.0 60.0 65.0 70.0 \n",
      "Finished\n",
      "CPU times: user 13.3 s, sys: 536 ms, total: 13.8 s\n",
      "Wall time: 14.6 s\n"
     ]
    }
   ],
   "source": [
    "%%time\n",
    "psi4.set_options({'reference':'ROHF'})\n",
    "es_cc, wfns_cc = coord_scan(rs, Li2zmat, model='scf/sto-3g')"
   ]
  },
  {
   "cell_type": "code",
   "execution_count": 14,
   "metadata": {},
   "outputs": [
    {
     "data": {
      "text/plain": [
       "(2, 15)"
      ]
     },
     "execution_count": 14,
     "metadata": {},
     "output_type": "execute_result"
    },
    {
     "data": {
      "image/png": "[encoded data removed]",
      "text/plain": [
       "<matplotlib.figure.Figure at 0x7fc9dabbf940>"
      ]
     },
     "metadata": {},
     "output_type": "display_data"
    }
   ],
   "source": [
    "plt.plot(rs, es_cc, 'o')\n",
    "plt.plot(rs, es, 'o')\n",
    "plt.xlim(2,15)"
   ]
  },
  {
   "cell_type": "code",
   "execution_count": null,
   "metadata": {
    "collapsed": true
   },
   "outputs": [],
   "source": [
    "#psi4.core.be_quiet()\n",
    "# restart logging with\n",
    "# psi4.core.restart_outfile()\n",
    "\n",
    "psi4.core.clean()"
   ]
  },
  {
   "cell_type": "code",
   "execution_count": 31,
   "metadata": {},
   "outputs": [
    {
     "name": "stdout",
     "output_type": "stream",
     "text": [
      "1.5 1.63157894737 1.76315789474 1.89473684211 2.02631578947 2.15789473684 2.28947368421 2.42105263158 2.55263157895 2.68421052632 2.81578947368 2.94736842105 3.07894736842 3.21052631579 3.34210526316 3.47368421053 3.60526315789 3.73684210526 3.86842105263 4.0 \n",
      "Finished\n"
     ]
    }
   ],
   "source": [
    "psi4.set_options({'reference':'ROHF'})\n",
    "r = np.linspace(1.5, 4, 20)\n",
    "\n",
    "hzmat = \"\"\"\n",
    "B\n",
    "B 1 %s\n",
    "\"\"\"\n",
    "eh, w = coord_scan(r, hzmat, model='scf/6-31g*', wfn=False)"
   ]
  },
  {
   "cell_type": "code",
   "execution_count": 32,
   "metadata": {},
   "outputs": [
    {
     "data": {
      "text/plain": [
       "[<matplotlib.lines.Line2D at 0x7f0c47ebdbe0>]"
      ]
     },
     "execution_count": 32,
     "metadata": {},
     "output_type": "execute_result"
    },
    {
     "data": {
      "image/png": "[encoded data removed]",
      "text/plain": [
       "<matplotlib.figure.Figure at 0x7f0c47fbc470>"
      ]
     },
     "metadata": {},
     "output_type": "display_data"
    }
   ],
   "source": [
    "plt.plot(r, eh, 'o-')\n",
    "\n",
    "#plt.xlim(10,)"
   ]
  },
  {
   "cell_type": "code",
   "execution_count": 11,
   "metadata": {
    "collapsed": true
   },
   "outputs": [],
   "source": [
    "psi4.set_output_file('test-out.dat', False)"
   ]
  },
  {
   "cell_type": "code",
   "execution_count": 12,
   "metadata": {},
   "outputs": [
    {
     "data": {
      "text/plain": [
       "-49.03870929741153"
      ]
     },
     "execution_count": 12,
     "metadata": {},
     "output_type": "execute_result"
    }
   ],
   "source": [
    "mol = hzmat % 2.42105263158\n",
    "psi4.geometry(mol)\n",
    "psi4.energy('scf/6-31g*', mol=mol)"
   ]
  },
  {
   "cell_type": "code",
   "execution_count": 13,
   "metadata": {},
   "outputs": [
    {
     "data": {
      "text/plain": [
       "-48.95992729695434"
      ]
     },
     "execution_count": 13,
     "metadata": {},
     "output_type": "execute_result"
    }
   ],
   "source": [
    "mol = hzmat % 2.55263157\n",
    "\n",
    "psi4.geometry(mol)\n",
    "psi4.energy('scf/6-31g*', mol=mol)"
   ]
  },
  {
   "cell_type": "code",
   "execution_count": 29,
   "metadata": {},
   "outputs": [
    {
     "data": {
      "text/plain": [
       "True"
      ]
     },
     "execution_count": 29,
     "metadata": {},
     "output_type": "execute_result"
    }
   ],
   "source": [
    "psi4.core.set_global_option('E_CONVERGENCE',1e-8)\n",
    "psi4.core.set_global_option('D_CONVERGENCE', 1e-8)"
   ]
  },
  {
   "cell_type": "code",
   "execution_count": 30,
   "metadata": {},
   "outputs": [
    {
     "data": {
      "text/plain": [
       "(1e-08, 1e-08)"
      ]
     },
     "execution_count": 30,
     "metadata": {},
     "output_type": "execute_result"
    }
   ],
   "source": [
    "psi4.core.get_global_option(\"E_CONVERGENCE\"), psi4.core.get_global_option(\"D_CONVERGENCE\")"
   ]
  },
  {
   "cell_type": "code",
   "execution_count": 25,
   "metadata": {},
   "outputs": [
    {
     "data": {
      "text/plain": [
       "-49.03870929741153"
      ]
     },
     "execution_count": 25,
     "metadata": {},
     "output_type": "execute_result"
    }
   ],
   "source": [
    "mol = hzmat % 2.42105263158\n",
    "psi4.geometry(mol)\n",
    "psi4.energy('scf/6-31g*', mol=mol)"
   ]
  },
  {
   "cell_type": "code",
   "execution_count": null,
   "metadata": {
    "collapsed": true
   },
   "outputs": [],
   "source": []
  }
 ],
 "metadata": {
  "kernelspec": {
   "display_name": "Python [conda env:p4env]",
   "language": "python",
   "name": "conda-env-p4env-py"
  },
  "language_info": {
   "codemirror_mode": {
    "name": "ipython",
    "version": 3
   },
   "file_extension": ".py",
   "mimetype": "text/x-python",
   "name": "python",
   "nbconvert_exporter": "python",
   "pygments_lexer": "ipython3",
   "version": "3.6.1"
  }
 },
 "nbformat": 4,
 "nbformat_minor": 2
}
